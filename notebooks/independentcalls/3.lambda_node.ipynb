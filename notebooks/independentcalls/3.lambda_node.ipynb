{
 "cells": [
  {
   "cell_type": "code",
   "execution_count": null,
   "metadata": {},
   "outputs": [],
   "source": [
    "import boto3\n",
    "import json\n",
    "from typing import Dict, Any\n",
    "import os\n",
    "from dotenv import load_dotenv"
   ]
  },
  {
   "cell_type": "code",
   "execution_count": null,
   "metadata": {},
   "outputs": [],
   "source": [
    "load_dotenv()\n",
    "\n",
    "region = os.environ.get('AWS_REGION')\n",
    "MODEL_ID = os.environ.get('MODEL_ID')\n",
    "role_arn = os.environ.get('ROLE_ARN')\n",
    "lambda_arn = os.environ.get('LAMBDA_ARN')"
   ]
  },
  {
   "cell_type": "code",
   "execution_count": null,
   "metadata": {},
   "outputs": [],
   "source": [
    "bedrock_agent = boto3.client('bedrock-agent', region_name = region)\n",
    "bedrock_agent_runtime = boto3.client('bedrock-agent-runtime', region_name = region)"
   ]
  },
  {
   "cell_type": "code",
   "execution_count": 13,
   "metadata": {},
   "outputs": [],
   "source": [
    "flow_name=\"webSearcher\"\n",
    "flow_description=\"A flow that creates a playlist given a genre and number of songs to include in the playlist.\""
   ]
  },
  {
   "cell_type": "code",
   "execution_count": 14,
   "metadata": {},
   "outputs": [],
   "source": [
    "# The input node validates that the content of the InvokeFlow request is a JSON object.\n",
    "input_node = {\n",
    "    \"type\": \"Input\",\n",
    "    \"name\": \"FlowInput\",\n",
    "    \"outputs\": [\n",
    "        {\n",
    "            \"name\": \"document\",\n",
    "            \"type\": \"String\"\n",
    "        }\n",
    "    ]\n",
    "}"
   ]
  },
  {
   "cell_type": "code",
   "execution_count": null,
   "metadata": {},
   "outputs": [],
   "source": [
    "### Knowledge base node\n",
    "web_search = {\n",
    "        \"name\": \"web_search\",\n",
    "        \"type\": \"LambdaFunction\",\n",
    "        \"configuration\" : {\n",
    "            'lambdaFunction': {\n",
    "                'lambdaArn': lambda_arn\n",
    "            },\n",
    "        },\n",
    "        \"inputs\": [\n",
    "            {\n",
    "                \"name\": \"codeHookInput\",\n",
    "                \"type\": \"String\",\n",
    "                \"expression\": \"$.data\"\n",
    "            }\n",
    "        ],\n",
    "        \"outputs\": [\n",
    "            {\n",
    "                \"name\": \"functionResponse\",\n",
    "                \"type\": \"String\"\n",
    "            }\n",
    "        ]\n",
    "}"
   ]
  },
  {
   "cell_type": "code",
   "execution_count": 16,
   "metadata": {},
   "outputs": [],
   "source": [
    "output_node = {\n",
    "    \"type\": \"Output\",\n",
    "    \"name\": \"FlowOutput\",\n",
    "    \"inputs\": [\n",
    "        {\n",
    "            \"name\": \"document\",\n",
    "            \"type\": \"String\",\n",
    "            \"expression\": \"$.data\"\n",
    "        }\n",
    "    ]\n",
    "}"
   ]
  },
  {
   "cell_type": "code",
   "execution_count": 17,
   "metadata": {},
   "outputs": [],
   "source": [
    "connections =  [\n",
    "    {\n",
    "      \"name\": \"Input_to_KB\",\n",
    "      \"source\": input_node['name'],\n",
    "      \"target\": web_search['name'],\n",
    "      \"type\": \"Data\",\n",
    "      \"configuration\": {\n",
    "        \"data\": { \n",
    "            \"sourceOutput\": input_node['outputs'][0]['name'], \n",
    "            \"targetInput\": web_search['inputs'][0]['name']\n",
    "          }\n",
    "      }\n",
    "    },\n",
    "    {\n",
    "      \"name\": \"blog_to_output\",\n",
    "      \"source\": web_search['name'],\n",
    "      \"target\": output_node['name'],\n",
    "      \"type\": \"Data\",\n",
    "      \"configuration\": {\n",
    "        \"data\": {\n",
    "          \"sourceOutput\": web_search['outputs'][0]['name'],\n",
    "          \"targetInput\": output_node['inputs'][0]['name']\n",
    "        }\n",
    "      }\n",
    "    }\n",
    "]"
   ]
  },
  {
   "cell_type": "code",
   "execution_count": 18,
   "metadata": {},
   "outputs": [],
   "source": [
    "response = bedrock_agent.create_flow(\n",
    "    name=flow_name,\n",
    "    description=flow_description,\n",
    "    executionRoleArn=role_arn,\n",
    "    definition={\n",
    "        \"nodes\": [input_node, web_search, output_node],\n",
    "        \"connections\": connections\n",
    "    }\n",
    ")"
   ]
  },
  {
   "cell_type": "code",
   "execution_count": 19,
   "metadata": {},
   "outputs": [],
   "source": [
    "flow_id = response.get(\"id\")"
   ]
  },
  {
   "cell_type": "code",
   "execution_count": 20,
   "metadata": {},
   "outputs": [
    {
     "data": {
      "text/plain": [
       "{'ResponseMetadata': {'RequestId': 'b14a5f06-aaf7-4fa7-a2e1-1b43b3c01b8b',\n",
       "  'HTTPStatusCode': 202,\n",
       "  'HTTPHeaders': {'date': 'Sun, 30 Mar 2025 22:31:44 GMT',\n",
       "   'content-type': 'application/json',\n",
       "   'content-length': '40',\n",
       "   'connection': 'keep-alive',\n",
       "   'x-amzn-requestid': 'b14a5f06-aaf7-4fa7-a2e1-1b43b3c01b8b',\n",
       "   'x-amz-apigw-id': 'IQvsrF0xPHcEonA=',\n",
       "   'x-amzn-trace-id': 'Root=1-67e9c650-77da0a707d4f6af808a46917'},\n",
       "  'RetryAttempts': 0},\n",
       " 'id': 'JNGCSF8R8M',\n",
       " 'status': 'Preparing'}"
      ]
     },
     "execution_count": 20,
     "metadata": {},
     "output_type": "execute_result"
    }
   ],
   "source": [
    "bedrock_agent.prepare_flow(flowIdentifier=flow_id)"
   ]
  },
  {
   "cell_type": "code",
   "execution_count": 47,
   "metadata": {},
   "outputs": [],
   "source": [
    "response = bedrock_agent.create_flow_version(flowIdentifier=flow_id)\n",
    "                                \n",
    "flow_version = response.get(\"version\")"
   ]
  },
  {
   "cell_type": "code",
   "execution_count": 48,
   "metadata": {},
   "outputs": [],
   "source": [
    "response = bedrock_agent.create_flow_alias(\n",
    "    flowIdentifier=flow_id,\n",
    "    name=\"latest\",\n",
    "    description=\"Alias pointing to the latest version of the flow.\",\n",
    "    routingConfiguration=[\n",
    "        {\n",
    "            \"flowVersion\": flow_version\n",
    "        }\n",
    "    ]\n",
    ")\n",
    "\n",
    "flow_alias_id = response.get(\"id\")"
   ]
  },
  {
   "cell_type": "code",
   "execution_count": null,
   "metadata": {},
   "outputs": [
    {
     "ename": "EventStreamError",
     "evalue": "An error occurred (validationException) when calling the InvokeFlow operation: Expected type for Node Output document of Node FlowInput to be STRING. Actual type is OBJECT.",
     "output_type": "error",
     "traceback": [
      "\u001b[0;31m---------------------------------------------------------------------------\u001b[0m",
      "\u001b[0;31mEventStreamError\u001b[0m                          Traceback (most recent call last)",
      "Cell \u001b[0;32mIn[49], line 21\u001b[0m\n\u001b[1;32m      3\u001b[0m response \u001b[38;5;241m=\u001b[39m client_runtime\u001b[38;5;241m.\u001b[39minvoke_flow(\n\u001b[1;32m      4\u001b[0m     flowIdentifier\u001b[38;5;241m=\u001b[39mflow_id,\n\u001b[1;32m      5\u001b[0m     flowAliasIdentifier\u001b[38;5;241m=\u001b[39mflow_alias_id,\n\u001b[0;32m   (...)\u001b[0m\n\u001b[1;32m     16\u001b[0m     ]\n\u001b[1;32m     17\u001b[0m )\n\u001b[1;32m     19\u001b[0m result \u001b[38;5;241m=\u001b[39m {}\n\u001b[0;32m---> 21\u001b[0m \u001b[38;5;28;43;01mfor\u001b[39;49;00m\u001b[43m \u001b[49m\u001b[43mevent\u001b[49m\u001b[43m \u001b[49m\u001b[38;5;129;43;01min\u001b[39;49;00m\u001b[43m \u001b[49m\u001b[43mresponse\u001b[49m\u001b[38;5;241;43m.\u001b[39;49m\u001b[43mget\u001b[49m\u001b[43m(\u001b[49m\u001b[38;5;124;43m\"\u001b[39;49m\u001b[38;5;124;43mresponseStream\u001b[39;49m\u001b[38;5;124;43m\"\u001b[39;49m\u001b[43m)\u001b[49m\u001b[43m:\u001b[49m\n\u001b[1;32m     22\u001b[0m \u001b[43m    \u001b[49m\u001b[43mresult\u001b[49m\u001b[38;5;241;43m.\u001b[39;49m\u001b[43mupdate\u001b[49m\u001b[43m(\u001b[49m\u001b[43mevent\u001b[49m\u001b[43m)\u001b[49m\n\u001b[1;32m     24\u001b[0m \u001b[38;5;28;01mif\u001b[39;00m result[\u001b[38;5;124m'\u001b[39m\u001b[38;5;124mflowCompletionEvent\u001b[39m\u001b[38;5;124m'\u001b[39m][\u001b[38;5;124m'\u001b[39m\u001b[38;5;124mcompletionReason\u001b[39m\u001b[38;5;124m'\u001b[39m] \u001b[38;5;241m==\u001b[39m \u001b[38;5;124m'\u001b[39m\u001b[38;5;124mSUCCESS\u001b[39m\u001b[38;5;124m'\u001b[39m:\n",
      "File \u001b[0;32m/Library/Frameworks/Python.framework/Versions/3.12/lib/python3.12/site-packages/botocore/eventstream.py:592\u001b[0m, in \u001b[0;36mEventStream.__iter__\u001b[0;34m(self)\u001b[0m\n\u001b[1;32m    590\u001b[0m \u001b[38;5;28;01mdef\u001b[39;00m\u001b[38;5;250m \u001b[39m\u001b[38;5;21m__iter__\u001b[39m(\u001b[38;5;28mself\u001b[39m):\n\u001b[1;32m    591\u001b[0m     \u001b[38;5;28;01mfor\u001b[39;00m event \u001b[38;5;129;01min\u001b[39;00m \u001b[38;5;28mself\u001b[39m\u001b[38;5;241m.\u001b[39m_event_generator:\n\u001b[0;32m--> 592\u001b[0m         parsed_event \u001b[38;5;241m=\u001b[39m \u001b[38;5;28;43mself\u001b[39;49m\u001b[38;5;241;43m.\u001b[39;49m\u001b[43m_parse_event\u001b[49m\u001b[43m(\u001b[49m\u001b[43mevent\u001b[49m\u001b[43m)\u001b[49m\n\u001b[1;32m    593\u001b[0m         \u001b[38;5;28;01mif\u001b[39;00m parsed_event:\n\u001b[1;32m    594\u001b[0m             \u001b[38;5;28;01myield\u001b[39;00m parsed_event\n",
      "File \u001b[0;32m/Library/Frameworks/Python.framework/Versions/3.12/lib/python3.12/site-packages/botocore/eventstream.py:608\u001b[0m, in \u001b[0;36mEventStream._parse_event\u001b[0;34m(self, event)\u001b[0m\n\u001b[1;32m    606\u001b[0m     \u001b[38;5;28;01mreturn\u001b[39;00m parsed_response\n\u001b[1;32m    607\u001b[0m \u001b[38;5;28;01melse\u001b[39;00m:\n\u001b[0;32m--> 608\u001b[0m     \u001b[38;5;28;01mraise\u001b[39;00m EventStreamError(parsed_response, \u001b[38;5;28mself\u001b[39m\u001b[38;5;241m.\u001b[39m_operation_name)\n",
      "\u001b[0;31mEventStreamError\u001b[0m: An error occurred (validationException) when calling the InvokeFlow operation: Expected type for Node Output document of Node FlowInput to be STRING. Actual type is OBJECT."
     ]
    }
   ],
   "source": [
    "response = bedrock_agent_runtime.invoke_flow(\n",
    "    flowIdentifier=flow_id,\n",
    "    flowAliasIdentifier=flow_alias_id,\n",
    "    inputs=[\n",
    "        {\n",
    "            \"content\": {\n",
    "                \"document\": \"usainblot\"\n",
    "            },\n",
    "            \"nodeName\": \"FlowInput\",\n",
    "            \"nodeOutputName\": \"document\"\n",
    "        }\n",
    "    ]\n",
    ")\n",
    "\n",
    "result = {}\n",
    "\n",
    "for event in response.get(\"responseStream\"):\n",
    "    result.update(event)\n",
    "\n",
    "if result['flowCompletionEvent']['completionReason'] == 'SUCCESS':\n",
    "    print(\"Flow invocation was successful! The output of the flow is as follows:\\n\")\n",
    "    print(result['flowOutputEvent']['content']['document'])\n",
    "\n",
    "else:\n",
    "    print(\"The flow invocation completed because of the following reason:\", result['flowCompletionEvent']['completionReason'])"
   ]
  }
 ],
 "metadata": {
  "kernelspec": {
   "display_name": "Python 3",
   "language": "python",
   "name": "python3"
  },
  "language_info": {
   "codemirror_mode": {
    "name": "ipython",
    "version": 3
   },
   "file_extension": ".py",
   "mimetype": "text/x-python",
   "name": "python",
   "nbconvert_exporter": "python",
   "pygments_lexer": "ipython3",
   "version": "3.12.5"
  }
 },
 "nbformat": 4,
 "nbformat_minor": 2
}
