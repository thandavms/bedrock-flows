{
 "cells": [
  {
   "cell_type": "code",
   "execution_count": null,
   "metadata": {},
   "outputs": [],
   "source": [
    "import boto3\n",
    "import json\n",
    "from typing import Dict, Any\n",
    "import os\n",
    "from dotenv import load_dotenv"
   ]
  },
  {
   "cell_type": "code",
   "execution_count": null,
   "metadata": {},
   "outputs": [],
   "source": [
    "load_dotenv()\n",
    "\n",
    "region = os.environ.get('AWS_REGION')\n",
    "MODEL_ID = os.environ.get('MODEL_ID')\n",
    "role_arn = os.environ.get('ROLE_ARN')\n",
    "agent_arn = os.environ.get('AGENT_ARN')\n",
    "agent_alias_arn = os.environ.get('AGENT_ALIAS_ARN')"
   ]
  },
  {
   "cell_type": "code",
   "execution_count": null,
   "metadata": {},
   "outputs": [],
   "source": [
    "bedrock_agent = boto3.client('bedrock-agent', region_name = region)\n",
    "bedrock_agent_runtime = boto3.client('bedrock-agent-runtime', region_name = region)"
   ]
  },
  {
   "cell_type": "code",
   "execution_count": null,
   "metadata": {},
   "outputs": [],
   "source": [
    "flow_name=\"Agentic\"\n",
    "flow_description=\"A flow to call an agent.\""
   ]
  },
  {
   "cell_type": "code",
   "execution_count": null,
   "metadata": {},
   "outputs": [],
   "source": [
    "# The input node validates that the content of the InvokeFlow request is a JSON object.\n",
    "input_node = {\n",
    "    \"type\": \"Input\",\n",
    "    \"name\": \"FlowInput\",\n",
    "    \"outputs\": [\n",
    "        {\n",
    "            \"name\": \"document\",\n",
    "            \"type\": \"String\"\n",
    "        }\n",
    "    ]\n",
    "}"
   ]
  },
  {
   "cell_type": "code",
   "execution_count": null,
   "metadata": {},
   "outputs": [],
   "source": [
    "### Knowledge base node\n",
    "agent_node = {\n",
    "        \"name\": \"agent_node\",\n",
    "        \"type\": \"Agent\",\n",
    "        \"configuration\" : {\n",
    "            'agent': {\n",
    "                'agentAliasArn': agent_alias_arn\n",
    "           },\n",
    "        },\n",
    "        \"inputs\": [\n",
    "            {\n",
    "                \"name\": \"agentInputText\",\n",
    "                \"type\": \"String\",\n",
    "                \"expression\": \"$.data\"\n",
    "            }\n",
    "        ],\n",
    "        \"outputs\": [\n",
    "            {\n",
    "                \"name\": \"agentResponse\",\n",
    "                \"type\": \"String\"\n",
    "            }\n",
    "        ]\n",
    "}"
   ]
  },
  {
   "cell_type": "code",
   "execution_count": null,
   "metadata": {},
   "outputs": [],
   "source": [
    "output_node = {\n",
    "    \"type\": \"Output\",\n",
    "    \"name\": \"FlowOutput\",\n",
    "    \"inputs\": [\n",
    "        {\n",
    "            \"name\": \"document\",\n",
    "            \"type\": \"String\",\n",
    "            \"expression\": \"$.data\"\n",
    "        }\n",
    "    ]\n",
    "}"
   ]
  },
  {
   "cell_type": "code",
   "execution_count": null,
   "metadata": {},
   "outputs": [],
   "source": [
    "connections =  [\n",
    "    {\n",
    "      \"name\": \"Input_to_agent\",\n",
    "      \"source\": input_node['name'],\n",
    "      \"target\": agent_node['name'],\n",
    "      \"type\": \"Data\",\n",
    "      \"configuration\": {\n",
    "        \"data\": { \n",
    "            \"sourceOutput\": input_node['outputs'][0]['name'], \n",
    "            \"targetInput\": agent_node['inputs'][0]['name']\n",
    "          }\n",
    "      }\n",
    "    },\n",
    "    {\n",
    "      \"name\": \"agent_to_output\",\n",
    "      \"source\": agent_node['name'],\n",
    "      \"target\": output_node['name'],\n",
    "      \"type\": \"Data\",\n",
    "      \"configuration\": {\n",
    "        \"data\": {\n",
    "          \"sourceOutput\": agent_node['outputs'][0]['name'],\n",
    "          \"targetInput\": output_node['inputs'][0]['name']\n",
    "        }\n",
    "      }\n",
    "    }\n",
    "]"
   ]
  },
  {
   "cell_type": "code",
   "execution_count": null,
   "metadata": {},
   "outputs": [],
   "source": [
    "response = bedrock_agent.create_flow(\n",
    "    name=flow_name,\n",
    "    description=flow_description,\n",
    "    executionRoleArn=role_arn,\n",
    "    definition={\n",
    "        \"nodes\": [input_node, agent_node, output_node],\n",
    "        \"connections\": connections\n",
    "    }\n",
    ")"
   ]
  },
  {
   "cell_type": "code",
   "execution_count": null,
   "metadata": {},
   "outputs": [],
   "source": [
    "flow_id = response.get(\"id\")"
   ]
  },
  {
   "cell_type": "code",
   "execution_count": null,
   "metadata": {},
   "outputs": [],
   "source": [
    "bedrock_agent.prepare_flow(flowIdentifier=flow_id)"
   ]
  },
  {
   "cell_type": "code",
   "execution_count": null,
   "metadata": {},
   "outputs": [],
   "source": [
    "response = bedrock_agent.create_flow_version(flowIdentifier=flow_id)\n",
    "                                \n",
    "flow_version = response.get(\"version\")"
   ]
  },
  {
   "cell_type": "code",
   "execution_count": null,
   "metadata": {},
   "outputs": [],
   "source": [
    "response = bedrock_agent.create_flow_alias(\n",
    "    flowIdentifier=flow_id,\n",
    "    name=\"latest\",\n",
    "    description=\"Alias pointing to the latest version of the flow.\",\n",
    "    routingConfiguration=[\n",
    "        {\n",
    "            \"flowVersion\": flow_version\n",
    "        }\n",
    "    ]\n",
    ")\n",
    "\n",
    "flow_alias_id = response.get(\"id\")"
   ]
  },
  {
   "cell_type": "code",
   "execution_count": null,
   "metadata": {},
   "outputs": [],
   "source": [
    "response = bedrock_agent_runtime.invoke_flow(\n",
    "    flowIdentifier=flow_id,\n",
    "    flowAliasIdentifier=flow_alias_id,\n",
    "    inputs=[\n",
    "        {\n",
    "            \"content\": {\n",
    "                \"document\": \"usainblot\"\n",
    "            },\n",
    "            \"nodeName\": \"FlowInput\",\n",
    "            \"nodeOutputName\": \"document\"\n",
    "        }\n",
    "    ]\n",
    ")\n",
    "\n",
    "result = {}\n",
    "\n",
    "for event in response.get(\"responseStream\"):\n",
    "    result.update(event)\n",
    "\n",
    "if result['flowCompletionEvent']['completionReason'] == 'SUCCESS':\n",
    "    print(\"Flow invocation was successful! The output of the flow is as follows:\\n\")\n",
    "    print(result['flowOutputEvent']['content']['document'])\n",
    "\n",
    "else:\n",
    "    print(\"The flow invocation completed because of the following reason:\", result['flowCompletionEvent']['completionReason'])"
   ]
  }
 ],
 "metadata": {
  "kernelspec": {
   "display_name": "Python 3",
   "language": "python",
   "name": "python3"
  },
  "language_info": {
   "codemirror_mode": {
    "name": "ipython",
    "version": 3
   },
   "file_extension": ".py",
   "mimetype": "text/x-python",
   "name": "python",
   "nbconvert_exporter": "python",
   "pygments_lexer": "ipython3",
   "version": "3.12.5"
  }
 },
 "nbformat": 4,
 "nbformat_minor": 2
}
